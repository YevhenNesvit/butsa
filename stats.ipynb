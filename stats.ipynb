{
 "cells": [
  {
   "cell_type": "code",
   "execution_count": 14,
   "metadata": {},
   "outputs": [
    {
     "name": "stderr",
     "output_type": "stream",
     "text": [
      "/tmp/ipykernel_131617/796758163.py:5: UserWarning: Could not infer format, so each element will be parsed individually, falling back to `dateutil`. To ensure parsing is consistent and as-expected, please specify a format.\n",
      "  df['Продан'] = pd.to_datetime(df['Продан'])\n"
     ]
    },
    {
     "data": {
      "text/plain": [
       "216771916.0"
      ]
     },
     "execution_count": 14,
     "metadata": {},
     "output_type": "execute_result"
    }
   ],
   "source": [
    "import pandas as pd\n",
    "\n",
    "df = pd.read_csv(\"worker_players_4.csv\")\n",
    "df = df.iloc[:, :-1]\n",
    "df['Продан'] = pd.to_datetime(df['Продан'])\n",
    "df['Цена'] = df['Цена'].str.replace('.', '').str.replace(',', '.').astype(int)\n",
    "df = df.sort_values(by='Продан')\n",
    "# df.info()\n",
    "df[(df['Поз'] == 'Cm') & (df['РТ'] == 4.0)]['Цена'].mean().round()"
   ]
  }
 ],
 "metadata": {
  "kernelspec": {
   "display_name": "base",
   "language": "python",
   "name": "python3"
  },
  "language_info": {
   "codemirror_mode": {
    "name": "ipython",
    "version": 3
   },
   "file_extension": ".py",
   "mimetype": "text/x-python",
   "name": "python",
   "nbconvert_exporter": "python",
   "pygments_lexer": "ipython3",
   "version": "3.12.2"
  }
 },
 "nbformat": 4,
 "nbformat_minor": 2
}
