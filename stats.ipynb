{
 "cells": [
  {
   "cell_type": "code",
   "execution_count": 5,
   "metadata": {},
   "outputs": [
    {
     "name": "stdout",
     "output_type": "stream",
     "text": [
      "<class 'pandas.core.frame.DataFrame'>\n",
      "Index: 189 entries, 2 to 88\n",
      "Data columns (total 12 columns):\n",
      " #   Column      Non-Null Count  Dtype         \n",
      "---  ------      --------------  -----         \n",
      " 0   Лот         189 non-null    int64         \n",
      " 1   Продан      189 non-null    datetime64[ns]\n",
      " 2   Гр          0 non-null      float64       \n",
      " 3   Игрок       189 non-null    object        \n",
      " 4   Продавец    189 non-null    object        \n",
      " 5   Покупатель  189 non-null    object        \n",
      " 6   Поз         189 non-null    object        \n",
      " 7   Воз         189 non-null    int64         \n",
      " 8   Мас         189 non-null    int64         \n",
      " 9   T           189 non-null    int64         \n",
      " 10  РТ          189 non-null    float64       \n",
      " 11  Цена        189 non-null    int64         \n",
      "dtypes: datetime64[ns](1), float64(2), int64(5), object(4)\n",
      "memory usage: 19.2+ KB\n"
     ]
    },
    {
     "name": "stderr",
     "output_type": "stream",
     "text": [
      "/tmp/ipykernel_70839/1916468785.py:5: UserWarning: Could not infer format, so each element will be parsed individually, falling back to `dateutil`. To ensure parsing is consistent and as-expected, please specify a format.\n",
      "  df['Продан'] = pd.to_datetime(df['Продан'])\n"
     ]
    }
   ],
   "source": [
    "import pandas as pd\n",
    "\n",
    "df = pd.read_csv(\"worker_players_4.csv\")\n",
    "df = df.iloc[:, :-1]\n",
    "df['Продан'] = pd.to_datetime(df['Продан'])\n",
    "df['Цена'] = df['Цена'].str.replace('.', '').str.replace(',', '.').astype(int)\n",
    "df = df.sort_values(by='Продан')\n",
    "df = df.drop_duplicates(subset='Игрок', keep='last')\n",
    "df.info()\n",
    "# df[(df['Поз'] == 'Cm') & (df['РТ'] == 4.0)]['Цена'].mean().round()"
   ]
  },
  {
   "cell_type": "code",
   "execution_count": 8,
   "metadata": {},
   "outputs": [],
   "source": [
    "import pandas as pd\n",
    "\n",
    "df1 = pd.read_csv(\"worker_players_4.csv\")\n",
    "df2 = pd.read_csv(\"worker_players_41.csv\")\n",
    "\n",
    "df = pd.concat([df1, df2], ignore_index=False)\n",
    "df = df.drop_duplicates(subset='Игрок', keep='last')\n",
    "df.to_csv(\"worker_players_40.csv\", index=False)"
   ]
  }
 ],
 "metadata": {
  "kernelspec": {
   "display_name": "base",
   "language": "python",
   "name": "python3"
  },
  "language_info": {
   "codemirror_mode": {
    "name": "ipython",
    "version": 3
   },
   "file_extension": ".py",
   "mimetype": "text/x-python",
   "name": "python",
   "nbconvert_exporter": "python",
   "pygments_lexer": "ipython3",
   "version": "3.12.2"
  }
 },
 "nbformat": 4,
 "nbformat_minor": 2
}
